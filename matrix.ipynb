{
  "nbformat": 4,
  "nbformat_minor": 0,
  "metadata": {
    "colab": {
      "provenance": [],
      "authorship_tag": "ABX9TyN03z5R9Die4Pj59n6PRezw",
      "include_colab_link": true
    },
    "kernelspec": {
      "name": "ir",
      "display_name": "R"
    },
    "language_info": {
      "name": "R"
    }
  },
  "cells": [
    {
      "cell_type": "markdown",
      "metadata": {
        "id": "view-in-github",
        "colab_type": "text"
      },
      "source": [
        "<a href=\"https://colab.research.google.com/github/GOVINDFROMINDIA/R-Basics/blob/main/matrix.ipynb\" target=\"_parent\"><img src=\"https://colab.research.google.com/assets/colab-badge.svg\" alt=\"Open In Colab\"/></a>"
      ]
    },
    {
      "cell_type": "code",
      "execution_count": 1,
      "metadata": {
        "colab": {
          "base_uri": "https://localhost:8080/"
        },
        "id": "Lt1s_QAESGyc",
        "outputId": "d7fc89b9-dddf-473a-a8bb-cc402cf13fcf"
      },
      "outputs": [
        {
          "output_type": "stream",
          "name": "stdout",
          "text": [
            "     [,1] [,2] [,3] [,4]\n",
            "[1,]    1    2    3    4\n",
            "[2,]    5    6    7    8\n",
            "[3,]    9   10   11   12\n",
            "[4,]   13   14   15   16\n",
            "     [,1] [,2] [,3] [,4]\n",
            "[1,]    1    5    9   13\n",
            "[2,]    2    6   10   14\n",
            "[3,]    3    7   11   15\n",
            "[4,]    4    8   12   16\n",
            "[1] 3\n",
            "[1] 13 14 15 16\n",
            "[1]  9 10 11 12\n",
            "Result of addition \n",
            "     [,1] [,2] [,3] [,4]\n",
            "[1,]    2    7   12   17\n",
            "[2,]    7   12   17   22\n",
            "[3,]   12   17   22   27\n",
            "[4,]   17   22   27   32\n",
            "Result of subtraction \n",
            "     [,1] [,2] [,3] [,4]\n",
            "[1,]    0   -3   -6   -9\n",
            "[2,]    3    0   -3   -6\n",
            "[3,]    6    3    0   -3\n",
            "[4,]    9    6    3    0\n",
            "Result of multiplication \n",
            "     [,1] [,2] [,3] [,4]\n",
            "[1,]    1   10   27   52\n",
            "[2,]   10   36   70  112\n",
            "[3,]   27   70  121  180\n",
            "[4,]   52  112  180  256\n",
            "Result of division \n",
            "     [,1]     [,2]      [,3]      [,4]\n",
            "[1,] 1.00 0.400000 0.3333333 0.3076923\n",
            "[2,] 2.50 1.000000 0.7000000 0.5714286\n",
            "[3,] 3.00 1.428571 1.0000000 0.8000000\n",
            "[4,] 3.25 1.750000 1.2500000 1.0000000\n"
          ]
        }
      ],
      "source": [
        "M <- matrix(c(1:16), nrow = 4, byrow = TRUE)\n",
        "print(M)\n",
        "\n",
        "# Elements are arranged sequentially by column.\n",
        "N <- matrix(c(1:16), nrow = 4, byrow = FALSE)\n",
        "print(N)\n",
        "\n",
        "print(M[1,3])\n",
        "print(M[4,])\n",
        "print(N[,3])\n",
        "\n",
        "# Add the matrices.\n",
        "result <- M +N\n",
        "cat(\"Result of addition\",\"\\n\")\n",
        "print(result)\n",
        "\n",
        "# Subtract the matrices\n",
        "result <- M - N\n",
        "cat(\"Result of subtraction\",\"\\n\")\n",
        "print(result)\n",
        "\n",
        "# Multiply the matrices.\n",
        "result <- M * N\n",
        "cat(\"Result of multiplication\",\"\\n\")\n",
        "print(result)\n",
        "\n",
        "# Divide the matrices\n",
        "result <- M /N\n",
        "cat(\"Result of division\",\"\\n\")\n",
        "print(result)"
      ]
    }
  ]
}